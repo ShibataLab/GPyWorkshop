{
 "cells": [
  {
   "cell_type": "markdown",
   "metadata": {},
   "source": [
    "# GPDM Experiments\n",
    "---"
   ]
  },
  {
   "cell_type": "code",
   "execution_count": null,
   "metadata": {
    "collapsed": false
   },
   "outputs": [],
   "source": [
    "import GPflow\n",
    "import numpy as np\n",
    "import matplotlib as mpl\n",
    "import matplotlib.cm as cm\n",
    "from GPflow.gplvm import GPLVM\n",
    "from gpdm import GPDM\n",
    "import matplotlib.pyplot as plt\n",
    "from bcgplvm import BCGPLVM\n",
    "from GPflow import kernels, ekernels\n",
    "from GPflow.plotting import plotLatent\n",
    "\n",
    "%matplotlib inline"
   ]
  },
  {
   "cell_type": "code",
   "execution_count": null,
   "metadata": {
    "collapsed": true
   },
   "outputs": [],
   "source": [
    "# set parameters for experiments\n",
    "np.random.seed(42)\n",
    "\n",
    "# throw error if quadrature is used for kernel expectations\n",
    "GPflow.settings.numerics.quadrature = 'error'  "
   ]
  },
  {
   "cell_type": "markdown",
   "metadata": {
    "collapsed": true
   },
   "source": [
    "## Experiment with Linear Dynamical System\n",
    "---"
   ]
  },
  {
   "cell_type": "code",
   "execution_count": null,
   "metadata": {
    "collapsed": false
   },
   "outputs": [],
   "source": [
    "# d = 2, D = 10, linear dyn, linear map\n",
    "d = 2\n",
    "D = 10\n",
    "nSamples = 100\n",
    "noiseVar = 0.01\n",
    "t = np.linspace(0.0,5.0,num=nSamples,endpoint=True)\n",
    "\n",
    "# generate latent points based on LDS x(t) = [[-1 0],[0 -2]]*x(t-1)\n",
    "X = np.exp(np.asarray([-t,-2*t])).T\n",
    "X = X - X.mean(axis=0)\n",
    "\n",
    "# generate high dimensional observation data\n",
    "Y1 = np.matmul(np.random.randn(D,d),X.T).T + np.random.randn(nSamples,D)*np.sqrt(noiseVar)\n",
    "Y2 = np.sin(np.matmul(np.random.randn(D,d),X.T).T)*np.tanh(np.matmul(np.random.randn(D,d),X.T).T) + np.random.randn(nSamples,D)*np.sqrt(noiseVar)"
   ]
  },
  {
   "cell_type": "code",
   "execution_count": null,
   "metadata": {
    "collapsed": false
   },
   "outputs": [],
   "source": [
    "# visualize original latent data\n",
    "fig = plt.figure(figsize=(10,6))\n",
    "plt.scatter(X[:,0], X[:,1], color='k')\n",
    "plt.title('Original Data')"
   ]
  },
  {
   "cell_type": "code",
   "execution_count": null,
   "metadata": {
    "collapsed": false,
    "scrolled": false
   },
   "outputs": [],
   "source": [
    "# train GPLVM, GPDM on given data\n",
    "m1 = GPLVM(Y1, d, kern=kernels.Linear(d))\n",
    "m1.likelihood.variance = noiseVar\n",
    "_ = m1.optimize(disp=True, maxiter=3000)\n",
    "\n",
    "m2 = GPDM(Y1, d, map_kern=kernels.Linear(d), dyn_kern=kernels.Linear(d))\n",
    "m2.likelihood.variance = noiseVar\n",
    "m2.dyn_likelihood.variance = 1e-5\n",
    "_ = m2.optimize(disp=True, maxiter=3000)\n",
    "\n",
    "# visualize original latent data\n",
    "fig,ax = plt.subplots(1,2,figsize=(10,6))\n",
    "\n",
    "ax[0].scatter(m1.X.value[:,0], m1.X.value[:,1], color='k')\n",
    "ax[0].set_title('GPLVM Latent Space')\n",
    "ax[1].scatter(m2.X.value[:,0], m2.X.value[:,1], color='k')\n",
    "ax[1].set_title('GPDM Latent Space')\n",
    "\n",
    "plt.suptitle('Linear Mapping')"
   ]
  },
  {
   "cell_type": "code",
   "execution_count": null,
   "metadata": {
    "collapsed": false
   },
   "outputs": [],
   "source": [
    "# train GPLVM, GPDM on given data\n",
    "m1 = GPLVM(Y2, d, kern=kernels.RBF(d))\n",
    "m1.likelihood.variance = noiseVar\n",
    "_ = m1.optimize(disp=True, maxiter=3000)\n",
    "\n",
    "m2 = GPDM(Y2, d, map_kern=kernels.RBF(d), dyn_kern=kernels.Linear(d))\n",
    "m2.likelihood.variance = noiseVar\n",
    "m2.dyn_likelihood.variance = 1e-5\n",
    "_ = m2.optimize(disp=True, maxiter=3000)\n",
    "\n",
    "# visualize original latent data\n",
    "fig,ax = plt.subplots(1,2,figsize=(10,6))\n",
    "\n",
    "ax[0].scatter(m1.X.value[:,0], m1.X.value[:,1], color='k')\n",
    "ax[0].set_title('GPLVM Latent Space')\n",
    "ax[1].scatter(m2.X.value[:,0], m2.X.value[:,1], color='k')\n",
    "ax[1].set_title('GPDM Latent Space')\n",
    "\n",
    "plt.suptitle('Nonlinear Mapping')"
   ]
  }
 ],
 "metadata": {
  "kernelspec": {
   "display_name": "Python 2",
   "language": "python",
   "name": "python2"
  },
  "language_info": {
   "codemirror_mode": {
    "name": "ipython",
    "version": 2
   },
   "file_extension": ".py",
   "mimetype": "text/x-python",
   "name": "python",
   "nbconvert_exporter": "python",
   "pygments_lexer": "ipython2",
   "version": "2.7.6"
  },
  "widgets": {
   "state": {},
   "version": "1.1.2"
  }
 },
 "nbformat": 4,
 "nbformat_minor": 2
}
