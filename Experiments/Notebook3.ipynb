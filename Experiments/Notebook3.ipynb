{
 "cells": [
  {
   "cell_type": "markdown",
   "metadata": {},
   "source": [
    "# Lab session 3: GPflow\n",
    "\n",
    "The aim of this lab session provides some practical tips for using BGPLVM, MRD on real-world datasets. We will focus on two models: \n",
    "* Bayesian Gaussian Process Latent Variable Model\n",
    "* Manifold Relevance Determination\n",
    "\n",
    "Source: Nishanth et al., IEEE TRo 2017"
   ]
  },
  {
   "cell_type": "code",
   "execution_count": 4,
   "metadata": {
    "collapsed": true
   },
   "outputs": [],
   "source": [
    "# import python modules\n",
    "import GPy\n",
    "import string\n",
    "import numpy as np\n",
    "from GPy.util import pca\n",
    "from matplotlib import pyplot as plt\n",
    "\n",
    "# call matplotlib with the inline command to make plots appear within the browser\n",
    "%matplotlib inline"
   ]
  },
  {
   "cell_type": "code",
   "execution_count": null,
   "metadata": {
    "collapsed": true
   },
   "outputs": [],
   "source": [
    "# mrd model training\n",
    "nSamples = trainData[kinectKey].shape[0]\n",
    "trainList = [trainData[kinectKey], trainData[mocapKey]]\n",
    "    \n",
    "# initializing the latent space \n",
    "scales = []\n",
    "inputX = np.zeros((nSamples,qDim))\n",
    "\n",
    "for qD,qDV,Y in zip(qDims, qDVals, trainList):\n",
    "    x,frcs = GPy.util.initialization.initialize_latent('PCA',qD, Y)\n",
    "    scales.extend(frcs)\n",
    "    inputX[:,qDV] = x\n",
    "    \n",
    "scales = np.asarray(scales)\n",
    "    \n",
    "# setting up the kernel\n",
    "mrdKernels = []\n",
    "\n",
    "for Y in trainList:\n",
    "    mrdKernels.append(GPy.kern.RBF(qDim, variance=1., lengthscale=1./scales, ARD = True))\n",
    "        \n",
    "# initializing MRD model\n",
    "mrdModel = GPy.models.MRD(trainList, input_dim=qDim, num_inducing=nInducing, kernel=mrdKernels, \n",
    "                          X=inputX, name='%s%d%d' % (expName,sInd,pInd+1))\n",
    "print 'Setup Model!'\n",
    "    \n",
    "# Phase 1: Optimizaition by fixing variance parameters\n",
    "var0 = mrdModel.Y0.Y.var()\n",
    "var1 = mrdModel.Y1.Y.var()\n",
    "\n",
    "mrdModel.Y0.rbf.variance.fix(var0)\n",
    "mrdModel.Y1.rbf.variance.fix(var1)\n",
    "\n",
    "mrdModel.Y0.Gaussian_noise.variance.fix(var0/SNR0)\n",
    "mrdModel.Y1.Gaussian_noise.variance.fix(var1/SNR1)\n",
    "\n",
    "mrdModel.optimize(messages=True, max_iters=initVardistIters)\n",
    "    \n",
    "# Phase 2: Optimize each model individually\n",
    "\n",
    "# constrain space 0\n",
    "mrdModel.Y1.constrain_fixed()\n",
    "mrdModel.optimize(messages=True, max_iters=initMod0Iters)\n",
    "\n",
    "# constrain space 1\n",
    "mrdModel.Y0.constrain_fixed()\n",
    "mrdModel.Y1.unconstrain_fixed()\n",
    "mrdModel.Y1.rbf.variance.fix(var1)\n",
    "mrdModel.Y1.Gaussian_noise.variance.fix(var1/SNR1)\n",
    "mrdModel.optimize(messages=True, max_iters=initMod1Iters)\n",
    "    \n",
    "# Phase 3: Optimize the model without any constraints\n",
    "\n",
    "# training without constraints\n",
    "mrdModel.Y0.unconstrain_fixed()\n",
    "mrdModel.Y1.unconstrain_fixed()\n",
    "mrdModel.optimize(messages=True, max_iters=trainIters)\n",
    "    \n",
    "print 'Training Done!'\n",
    "    \n",
    "# plot the learned model\n",
    "mrdModel.plot_scales(sharex=True,sharey=False,titles=YNames)\n",
    "mrdModel.plot_latent(which_indices=[0,1])    "
   ]
  }
 ],
 "metadata": {
  "kernelspec": {
   "display_name": "Python 2",
   "language": "python",
   "name": "python2"
  },
  "language_info": {
   "codemirror_mode": {
    "name": "ipython",
    "version": 2
   },
   "file_extension": ".py",
   "mimetype": "text/x-python",
   "name": "python",
   "nbconvert_exporter": "python",
   "pygments_lexer": "ipython2",
   "version": "2.7.6"
  },
  "widgets": {
   "state": {},
   "version": "1.1.2"
  }
 },
 "nbformat": 4,
 "nbformat_minor": 0
}
